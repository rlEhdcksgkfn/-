{
  "nbformat": 4,
  "nbformat_minor": 0,
  "metadata": {
    "colab": {
      "provenance": [],
      "authorship_tag": "ABX9TyNEs7lG7vp34XLpwKoEpJP2",
      "include_colab_link": true
    },
    "kernelspec": {
      "name": "python3",
      "display_name": "Python 3"
    },
    "language_info": {
      "name": "python"
    }
  },
  "cells": [
    {
      "cell_type": "markdown",
      "metadata": {
        "id": "view-in-github",
        "colab_type": "text"
      },
      "source": [
        "<a href=\"https://colab.research.google.com/github/rlEhdcksgkfn/-/blob/main/%EC%98%A8%EB%8F%84_%EA%B2%BD%EB%B3%B4.ipynb\" target=\"_parent\"><img src=\"https://colab.research.google.com/assets/colab-badge.svg\" alt=\"Open In Colab\"/></a>"
      ]
    },
    {
      "cell_type": "code",
      "execution_count": null,
      "metadata": {
        "id": "u3d1dmxipbxs"
      },
      "outputs": [],
      "source": [
        "const int RLED =8;\n",
        "const int GLED = 9;\n",
        "const int MOTOR= 10;\n",
        "void setup() {\n",
        "  pinMode (MOTOR, OUTPUT);\n",
        "  pinMode (GLED, OUTPUT);\n",
        "  pinMode (RLED, OUTPUT);\n",
        "\n",
        "}\n",
        "\n",
        "void loop() {\n",
        "for (int i=0; i<256; i++)\n",
        "{\n",
        "  analogWrite (MOTOR ,i);\n",
        "  analogWrite (GLED, i);\n",
        "  delay (10);\n",
        "}\n",
        "delay(200);\n",
        "for (int i=255; i>=0; i--)\n",
        "{\n",
        "  analogWrite (MOTOR, i);\n",
        "  analogWrite (RLED, i);\n",
        "  delay(10);\n",
        "}\n",
        "delay(200);\n",
        "}\n"
      ]
    }
  ]
}