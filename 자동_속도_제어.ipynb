{
  "nbformat": 4,
  "nbformat_minor": 0,
  "metadata": {
    "colab": {
      "provenance": [],
      "authorship_tag": "ABX9TyO6CrJ/7qPVHEjwfIc0rYdr",
      "include_colab_link": true
    },
    "kernelspec": {
      "name": "python3",
      "display_name": "Python 3"
    },
    "language_info": {
      "name": "python"
    }
  },
  "cells": [
    {
      "cell_type": "markdown",
      "metadata": {
        "id": "view-in-github",
        "colab_type": "text"
      },
      "source": [
        "<a href=\"https://colab.research.google.com/github/rlEhdcksgkfn/-/blob/main/%EC%9E%90%EB%8F%99_%EC%86%8D%EB%8F%84_%EC%A0%9C%EC%96%B4.ipynb\" target=\"_parent\"><img src=\"https://colab.research.google.com/assets/colab-badge.svg\" alt=\"Open In Colab\"/></a>"
      ]
    },
    {
      "cell_type": "code",
      "execution_count": null,
      "metadata": {
        "id": "u3d1dmxipbxs"
      },
      "outputs": [],
      "source": [
        "const int MOTOR = 9;\n",
        "\n",
        "void setup()\n",
        "{\n",
        "    pinMode (MOTOR, output);\n",
        "}\n",
        "\n",
        "void loop()\n",
        "{\n",
        "    for (int i=0; i<256; i++)\n",
        "    {\n",
        "        analogwrite(motor, i);\n",
        "        delay(10);\n",
        "    }\n",
        " delay (2000);\n",
        " for (int i=0; i>=0; i--)\n",
        " {\n",
        "     analogwrite(motor, i);\n",
        "     delay(10);\n",
        " }\n",
        " delay(2000);\n",
        "}"
      ]
    }
  ]
}