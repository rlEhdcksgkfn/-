{
  "nbformat": 4,
  "nbformat_minor": 0,
  "metadata": {
    "colab": {
      "provenance": [],
      "authorship_tag": "ABX9TyPAblnWj6Sa6Y1X63VDmYz6",
      "include_colab_link": true
    },
    "kernelspec": {
      "name": "python3",
      "display_name": "Python 3"
    },
    "language_info": {
      "name": "python"
    }
  },
  "cells": [
    {
      "cell_type": "markdown",
      "metadata": {
        "id": "view-in-github",
        "colab_type": "text"
      },
      "source": [
        "<a href=\"https://colab.research.google.com/github/rlEhdcksgkfn/-/blob/main/%EC%9E%90%EB%8F%99_%EC%A1%B0%EB%AA%85%EB%93%B1_%EC%8A%A4%EC%BC%80%EC%B9%98.ipynb\" target=\"_parent\"><img src=\"https://colab.research.google.com/assets/colab-badge.svg\" alt=\"Open In Colab\"/></a>"
      ]
    },
    {
      "cell_type": "code",
      "execution_count": null,
      "metadata": {
        "id": "OcHr1fUPTIFI"
      },
      "outputs": [],
      "source": [
        "const int WLED=9;\n",
        "const int LIGHT=0;\n",
        "const int MIN_LIGHT=11;\n",
        "const int MAX_LIGHT=61;\n",
        "int val=0;\n",
        "\n",
        "void setup(){\n",
        "    pinMode (WLED, OUTPUT);\n",
        "    serial.begin(9600);\n",
        "}\n",
        "void loop()\n",
        "{\n",
        "    val=analogRead(Light);\n",
        "    val=map(val, MIN_LIGHT, MAX_LIGHT, 255, 0);\n",
        "    val=constrain(vla, 0, 255);\n",
        "    analogWrite(Wled, val);\n",
        "}\n"
      ]
    }
  ]
}