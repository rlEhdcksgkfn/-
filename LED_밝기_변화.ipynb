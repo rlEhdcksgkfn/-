{
  "nbformat": 4,
  "nbformat_minor": 0,
  "metadata": {
    "colab": {
      "provenance": [],
      "authorship_tag": "ABX9TyNtBifCABZjS4PhqlM3+Hnu",
      "include_colab_link": true
    },
    "kernelspec": {
      "name": "python3",
      "display_name": "Python 3"
    },
    "language_info": {
      "name": "python"
    }
  },
  "cells": [
    {
      "cell_type": "markdown",
      "metadata": {
        "id": "view-in-github",
        "colab_type": "text"
      },
      "source": [
        "<a href=\"https://colab.research.google.com/github/rlEhdcksgkfn/-/blob/main/LED_%EB%B0%9D%EA%B8%B0_%EB%B3%80%ED%99%94.ipynb\" target=\"_parent\"><img src=\"https://colab.research.google.com/assets/colab-badge.svg\" alt=\"Open In Colab\"/></a>"
      ]
    },
    {
      "cell_type": "code",
      "source": [
        "//LED밝기 변화//\n",
        "const int LED=9;\n",
        "void setup()\n",
        "{\n",
        "    pinMode(LED, OUTPUT);\n",
        "}\n",
        "void loop()\n",
        "{\n",
        "    for(int i=0; i<256; i++)\n",
        "    {\n",
        "        analogWrite(LED, i);\n",
        "        delay(10);\n",
        "    }\n",
        "    for(int i=255; i>=0, i--)\n",
        "    {\n",
        "        analogWirte(LED, i);\n",
        "        delay(10);\n",
        "    }\n",
        "}"
      ],
      "metadata": {
        "id": "H9HaKzpypeGi"
      },
      "execution_count": null,
      "outputs": []
    }
  ]
}