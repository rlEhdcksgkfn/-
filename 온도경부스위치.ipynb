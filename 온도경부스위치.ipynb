{
  "nbformat": 4,
  "nbformat_minor": 0,
  "metadata": {
    "colab": {
      "provenance": [],
      "authorship_tag": "ABX9TyMlYWmq16MAKl6uK7bot3mp",
      "include_colab_link": true
    },
    "kernelspec": {
      "name": "python3",
      "display_name": "Python 3"
    },
    "language_info": {
      "name": "python"
    }
  },
  "cells": [
    {
      "cell_type": "markdown",
      "metadata": {
        "id": "view-in-github",
        "colab_type": "text"
      },
      "source": [
        "<a href=\"https://colab.research.google.com/github/rlEhdcksgkfn/-/blob/main/%EC%98%A8%EB%8F%84%EA%B2%BD%EB%B6%80%EC%8A%A4%EC%9C%84%EC%B9%98.ipynb\" target=\"_parent\"><img src=\"https://colab.research.google.com/assets/colab-badge.svg\" alt=\"Open In Colab\"/></a>"
      ]
    },
    {
      "cell_type": "code",
      "execution_count": null,
      "metadata": {
        "id": "OeKeoeB2ykSr"
      },
      "outputs": [],
      "source": [
        "//온도 경보 스케치//\n",
        "const int B 9\n",
        "const int R 10\n",
        "const int G 11\n",
        "const int TEMP 0\n",
        "\n",
        "const int LOWER_BOUND= 139;\n",
        "const int UPPER_BOUND= 147;\n",
        "\n",
        "int val=0;\n",
        "\n",
        "void setup()\n",
        "{\n",
        "    pinMode(B,OUTPUT);\n",
        " pinMode(R,OUTPUT);\n",
        " pinMode(G,OUTPUT);\n",
        "}\n",
        "\n",
        "void loop()\n",
        "{\n",
        "    val=analogRead(TEMP);\n",
        " if(val<LOWER_B)\n",
        " {\n",
        "     R H\n",
        "     G H\n",
        "     B L\n",
        " }\n",
        " else if(vla>U)\n",
        " {\n",
        "     R  L\n",
        "     G  H\n",
        "     B  H\n",
        " }\n",
        " else\n",
        " {\n",
        "  R H\n",
        "  G L\n",
        "  B H\n",
        " }\n",
        "}"
      ]
    }
  ]
}