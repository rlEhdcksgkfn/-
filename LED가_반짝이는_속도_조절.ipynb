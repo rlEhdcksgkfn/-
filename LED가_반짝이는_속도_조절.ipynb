{
  "nbformat": 4,
  "nbformat_minor": 0,
  "metadata": {
    "colab": {
      "provenance": [],
      "authorship_tag": "ABX9TyOxSUWEp39IqVscfhLBA0Hh",
      "include_colab_link": true
    },
    "kernelspec": {
      "name": "python3",
      "display_name": "Python 3"
    },
    "language_info": {
      "name": "python"
    }
  },
  "cells": [
    {
      "cell_type": "markdown",
      "metadata": {
        "id": "view-in-github",
        "colab_type": "text"
      },
      "source": [
        "<a href=\"https://colab.research.google.com/github/rlEhdcksgkfn/-/blob/main/LED%EA%B0%80_%EB%B0%98%EC%A7%9D%EC%9D%B4%EB%8A%94_%EC%86%8D%EB%8F%84_%EC%A1%B0%EC%A0%88.ipynb\" target=\"_parent\"><img src=\"https://colab.research.google.com/assets/colab-badge.svg\" alt=\"Open In Colab\"/></a>"
      ]
    },
    {
      "cell_type": "code",
      "execution_count": 1,
      "metadata": {
        "id": "QziZM7I60RUF",
        "colab": {
          "base_uri": "https://localhost:8080/",
          "height": 138
        },
        "outputId": "a2fcf812-7f61-4943-88d1-1211b2d666cc"
      },
      "outputs": [
        {
          "output_type": "error",
          "ename": "SyntaxError",
          "evalue": "ignored",
          "traceback": [
            "\u001b[0;36m  File \u001b[0;32m\"<ipython-input-1-fded384e7fdd>\"\u001b[0;36m, line \u001b[0;32m1\u001b[0m\n\u001b[0;31m    const int LED =9;\u001b[0m\n\u001b[0m          ^\u001b[0m\n\u001b[0;31mSyntaxError\u001b[0m\u001b[0;31m:\u001b[0m invalid syntax\n"
          ]
        }
      ],
      "source": [
        "// LED가 반짝이는 속도 조절// \n",
        "const int LED =9;\n",
        "void setup()\n",
        "{\n",
        "    pinMode(LED, OUTPUT);\n",
        "}\n",
        "\n",
        "void loop{\n",
        "    for(int i=100; i<=100; i++)\n",
        "    {\n",
        "        digitalWrite(LED, HIGH);\n",
        "        delay(i);\n",
        "        digitalWrite(LED, LOW);\n",
        "        delay(i);\n",
        "    }\n",
        "}"
      ]
    }
  ]
}